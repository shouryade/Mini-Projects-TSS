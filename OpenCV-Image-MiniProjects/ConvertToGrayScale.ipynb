{
 "cells": [
  {
   "attachments": {},
   "cell_type": "markdown",
   "metadata": {},
   "source": [
    "Convert 100 Images to grayscale"
   ]
  },
  {
   "cell_type": "code",
   "execution_count": 14,
   "metadata": {},
   "outputs": [],
   "source": [
    "import os\n",
    "import cv2"
   ]
  },
  {
   "cell_type": "code",
   "execution_count": 19,
   "metadata": {},
   "outputs": [
    {
     "name": "stdout",
     "output_type": "stream",
     "text": [
      "Folder already created! Processing Images!\n"
     ]
    }
   ],
   "source": [
    "def convert_to_grayscale(path:str):\n",
    "    if not os.path.exists(path):\n",
    "        print(\"Path not found\")\n",
    "    else:\n",
    "        bw_path = \"{}/bw-images\".format(path)\n",
    "        try:\n",
    "            os.makedirs(bw_path)\n",
    "        except FileExistsError:\n",
    "            print(\"Folder already created! Processing Images!\")\n",
    "        \n",
    "        files = os.listdir(path)\n",
    "\n",
    "        for file in files:\n",
    "            \n",
    "            if file.endswith(('.jpg', '.png', 'jpeg')):\n",
    "                img_path = \"{}/{}\".format(path,file)\n",
    "                bw_image_path = \"{}/{}\".format(bw_path,file)\n",
    "                img = cv2.imread(img_path)\n",
    "                bw_image = cv2.cvtColor(img,cv2.COLOR_BGR2GRAY)\n",
    "                cv2.imwrite(bw_image_path,bw_image)\n",
    "                # bw_image.save(bw_image_path)\n",
    "                \n",
    "                \n",
    "\n",
    "\n",
    "        \n",
    "\n",
    "\n",
    "convert_to_grayscale(\"assets\")"
   ]
  }
 ],
 "metadata": {
  "kernelspec": {
   "display_name": "Python 3",
   "language": "python",
   "name": "python3"
  },
  "language_info": {
   "codemirror_mode": {
    "name": "ipython",
    "version": 3
   },
   "file_extension": ".py",
   "mimetype": "text/x-python",
   "name": "python",
   "nbconvert_exporter": "python",
   "pygments_lexer": "ipython3",
   "version": "3.11.3"
  },
  "orig_nbformat": 4
 },
 "nbformat": 4,
 "nbformat_minor": 2
}
