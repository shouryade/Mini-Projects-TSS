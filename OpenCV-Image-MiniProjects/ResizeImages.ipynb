{
 "cells": [
  {
   "attachments": {},
   "cell_type": "markdown",
   "metadata": {},
   "source": [
    "Resizing Images to X% of their size"
   ]
  },
  {
   "cell_type": "code",
   "execution_count": 2,
   "metadata": {},
   "outputs": [],
   "source": [
    "import cv2\n",
    "import os"
   ]
  },
  {
   "cell_type": "code",
   "execution_count": 4,
   "metadata": {},
   "outputs": [
    {
     "name": "stdout",
     "output_type": "stream",
     "text": [
      "Folder already created! Processing Images!\n",
      "Resized all images to 50% of width and height!\n"
     ]
    }
   ],
   "source": [
    "def resize_images(path:str,x:int):\n",
    "    if not os.path.exists(path):\n",
    "        print(\"Path not found\")\n",
    "    else:\n",
    "        res_path = \"{}/resized-images\".format(path)\n",
    "        try:\n",
    "            os.makedirs(res_path)\n",
    "        except FileExistsError:\n",
    "            print(\"Folder already created! Processing Images!\")\n",
    "        \n",
    "        files = os.listdir(path)\n",
    "\n",
    "        for file in files:\n",
    "            \n",
    "            if file.endswith(('.jpg', '.png', 'jpeg')):\n",
    "                img_path = \"{}/{}\".format(path,file)\n",
    "                res_image_path = \"{}/{}\".format(res_path,file)\n",
    "                img = cv2.imread(img_path)\n",
    "                res_image = cv2.resize(img,(0,0),fx=x/100,fy=x/100)\n",
    "                cv2.imwrite(res_image_path,res_image)\n",
    "        print(\"Resized all images to {}% of width and height!\".format(x))\n",
    "                \n",
    "                \n",
    "\n",
    "\n",
    "        \n",
    "\n",
    "\n",
    "resize_images(\"assets\",50)"
   ]
  }
 ],
 "metadata": {
  "kernelspec": {
   "display_name": "Python 3",
   "language": "python",
   "name": "python3"
  },
  "language_info": {
   "codemirror_mode": {
    "name": "ipython",
    "version": 3
   },
   "file_extension": ".py",
   "mimetype": "text/x-python",
   "name": "python",
   "nbconvert_exporter": "python",
   "pygments_lexer": "ipython3",
   "version": "3.11.3"
  },
  "orig_nbformat": 4
 },
 "nbformat": 4,
 "nbformat_minor": 2
}
