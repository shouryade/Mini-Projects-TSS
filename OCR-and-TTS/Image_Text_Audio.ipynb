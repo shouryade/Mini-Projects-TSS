{
  "nbformat": 4,
  "nbformat_minor": 0,
  "metadata": {
    "colab": {
      "private_outputs": true,
      "provenance": [],
      "authorship_tag": "ABX9TyO7oGn4pIPMDXc7ab4g3GK2",
      "include_colab_link": true
    },
    "kernelspec": {
      "name": "python3",
      "display_name": "Python 3"
    },
    "language_info": {
      "name": "python"
    }
  },
  "cells": [
    {
      "cell_type": "markdown",
      "metadata": {
        "id": "view-in-github",
        "colab_type": "text"
      },
      "source": [
        "<a href=\"https://colab.research.google.com/github/shouryade/Mini-Projects-TSS/blob/main/OCR-and-TTS/Image_Text_Audio.ipynb\" target=\"_parent\"><img src=\"https://colab.research.google.com/assets/colab-badge.svg\" alt=\"Open In Colab\"/></a>"
      ]
    },
    {
      "cell_type": "markdown",
      "source": [
        "### **In this mini project we will perform OCR with Tesseract OCR and then convert that text into an mp3 file with gTTS.**"
      ],
      "metadata": {
        "id": "hdAPoKst-q-i"
      }
    },
    {
      "cell_type": "code",
      "execution_count": null,
      "metadata": {
        "id": "3XA5gq4a-g7Z"
      },
      "outputs": [],
      "source": [
        "#installing packages first\n",
        "!sudo apt install tesseract-ocr\n",
        "!pip install pytesseract\n",
        "!pip install Pillow==9.0.0\n",
        "!pip install gTTS\n",
        "\n"
      ]
    },
    {
      "cell_type": "code",
      "source": [
        "!wget -c https://variety.com/wp-content/uploads/2021/07/Rick-Astley-Never-Gonna-Give-You-Up.png?w=1024 -O download.png"
      ],
      "metadata": {
        "id": "Y2A_iBFX_QO8"
      },
      "execution_count": null,
      "outputs": []
    },
    {
      "cell_type": "code",
      "source": [
        "#import libraries\n",
        "import pytesseract\n",
        "from PIL import Image\n",
        "import gtts as g"
      ],
      "metadata": {
        "id": "59b3pIz0CEBi"
      },
      "execution_count": null,
      "outputs": []
    },
    {
      "cell_type": "code",
      "source": [
        "# img = Image.open('/content/Picture1.png')\n",
        "img = Image.open('/content/download.png')\n",
        "print(img)"
      ],
      "metadata": {
        "id": "Yj5mUb8FDjKI"
      },
      "execution_count": null,
      "outputs": []
    },
    {
      "cell_type": "code",
      "source": [
        "res = pytesseract.image_to_string(img)\n",
        "print(res)"
      ],
      "metadata": {
        "id": "RT1tWPjcDvUd"
      },
      "execution_count": null,
      "outputs": []
    },
    {
      "cell_type": "code",
      "source": [
        "tts = g.gTTS(res)\n",
        "try:\n",
        "  tts = g.gTTS(res)\n",
        "  tts.save(\"Picture1-transcribed.mp3\")\n",
        "except Exception as e:\n",
        "  print(\"An error occurred!\")\n",
        "  print(e)\n",
        "\n",
        "sound_file = '/content/Picture1-transcribed.mp3'"
      ],
      "metadata": {
        "id": "XkYCcog_D2wq"
      },
      "execution_count": null,
      "outputs": []
    },
    {
      "cell_type": "code",
      "source": [
        "# playing audio in the notebook\n",
        "from IPython.display import Audio, display\n",
        "\n",
        "display(Audio(sound_file, autoplay=True))"
      ],
      "metadata": {
        "id": "jRkbPmufENye"
      },
      "execution_count": null,
      "outputs": []
    }
  ]
}